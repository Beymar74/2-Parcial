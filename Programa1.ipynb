{
  "nbformat": 4,
  "nbformat_minor": 0,
  "metadata": {
    "colab": {
      "provenance": [],
      "authorship_tag": "ABX9TyMCQVQboyubzINqfV8+RzXv",
      "include_colab_link": true
    },
    "kernelspec": {
      "name": "python3",
      "display_name": "Python 3"
    },
    "language_info": {
      "name": "python"
    }
  },
  "cells": [
    {
      "cell_type": "markdown",
      "metadata": {
        "id": "view-in-github",
        "colab_type": "text"
      },
      "source": [
        "<a href=\"https://colab.research.google.com/github/Beymar74/2-Parcial/blob/main/Programa1.ipynb\" target=\"_parent\"><img src=\"https://colab.research.google.com/assets/colab-badge.svg\" alt=\"Open In Colab\"/></a>"
      ]
    },
    {
      "cell_type": "markdown",
      "source": [],
      "metadata": {
        "id": "rLoWJHJ6Tu4B"
      }
    },
    {
      "cell_type": "code",
      "source": [
        "import pandas as pd\n",
        "import numpy as np\n",
        "import matplotlib.pyplot as plt\n",
        "import seaborn as sns"
      ],
      "metadata": {
        "id": "U_H3Jp1PZqDH"
      },
      "execution_count": null,
      "outputs": []
    },
    {
      "cell_type": "code",
      "source": [],
      "metadata": {
        "id": "iP3lDghxdrsy"
      },
      "execution_count": null,
      "outputs": []
    },
    {
      "cell_type": "code",
      "source": [
        "datos = pd.read_csv('/content/laptop_prices.csv')\n",
        "datos"
      ],
      "metadata": {
        "id": "LjXDQ81cTjCw"
      },
      "execution_count": null,
      "outputs": []
    },
    {
      "cell_type": "code",
      "source": [
        "datos = pd.read_csv('/content/chip_dataset.csv')\n",
        "datos"
      ],
      "metadata": {
        "id": "xJse3WzGZcWg"
      },
      "execution_count": null,
      "outputs": []
    },
    {
      "cell_type": "code",
      "source": [
        "datos.describe()"
      ],
      "metadata": {
        "id": "2Dm819R3WSVs"
      },
      "execution_count": null,
      "outputs": []
    },
    {
      "cell_type": "code",
      "source": [
        "datos.Product.value_counts()\n"
      ],
      "metadata": {
        "id": "qbHGsMidZ-9-"
      },
      "execution_count": null,
      "outputs": []
    },
    {
      "cell_type": "code",
      "source": [
        "datos.head(10)"
      ],
      "metadata": {
        "id": "3Df9nO5LdCu4"
      },
      "execution_count": null,
      "outputs": []
    },
    {
      "cell_type": "code",
      "source": [
        "datos.shape"
      ],
      "metadata": {
        "colab": {
          "base_uri": "https://localhost:8080/"
        },
        "id": "j2PQF-oMdJpE",
        "outputId": "34734935-5c41-4ac4-ca2b-72fb12b22e5f"
      },
      "execution_count": null,
      "outputs": [
        {
          "output_type": "execute_result",
          "data": {
            "text/plain": [
              "(4854, 14)"
            ]
          },
          "metadata": {},
          "execution_count": 16
        }
      ]
    },
    {
      "cell_type": "code",
      "source": [
        "import re\n",
        "\n",
        "# Extraer la frecuencia en GHz del procesador (si está en el formato esperado)\n",
        "def extraer_frecuencia(procesador):\n",
        "    match = re.search(r\"(\\d+\\.\\d+)\\s*GHz\", procesador)\n",
        "    return float(match.group(1)) * 1000 if match else None  # Convertir GHz a MHz\n",
        "\n",
        "# Aplicar la función a la columna 'Processor'\n",
        "datos['Freq (MHz)'] = datos['Processor'].apply(lambda x: extraer_frecuencia(x) if isinstance(x, str) else None)\n",
        "\n",
        "print(datos[['Processor', 'Freq (MHz)']].head())\n",
        "\n"
      ],
      "metadata": {
        "id": "0rOS1m5jJ2kg"
      },
      "execution_count": null,
      "outputs": []
    },
    {
      "cell_type": "code",
      "source": [],
      "metadata": {
        "id": "mXx6vyvJMJGL"
      },
      "execution_count": null,
      "outputs": []
    },
    {
      "cell_type": "code",
      "source": [
        "CREAMOS EL PRIMER MMODELO DE REGRESION:SALES ~ TV"
      ],
      "metadata": {
        "id": "kktsZvjAMxi0"
      },
      "execution_count": null,
      "outputs": []
    },
    {
      "cell_type": "code",
      "source": [
        "from sklearn.linear_model import LinearRegression\n",
        "\n",
        "lm_1 = LinearRegression()\n",
        "lm_1.fit(train_X, train_y)\n",
        "\n",
        "LinearRegression()\n"
      ],
      "metadata": {
        "colab": {
          "base_uri": "https://localhost:8080/",
          "height": 211
        },
        "id": "ki4ek5CbNJkA",
        "outputId": "280cbfea-c3a7-4ce8-99f7-7de251424f0e"
      },
      "execution_count": null,
      "outputs": [
        {
          "output_type": "error",
          "ename": "NameError",
          "evalue": "name 'train_X' is not defined",
          "traceback": [
            "\u001b[0;31m---------------------------------------------------------------------------\u001b[0m",
            "\u001b[0;31mNameError\u001b[0m                                 Traceback (most recent call last)",
            "\u001b[0;32m<ipython-input-22-0a2072b29114>\u001b[0m in \u001b[0;36m<cell line: 0>\u001b[0;34m()\u001b[0m\n\u001b[1;32m      2\u001b[0m \u001b[0;34m\u001b[0m\u001b[0m\n\u001b[1;32m      3\u001b[0m \u001b[0mlm_1\u001b[0m \u001b[0;34m=\u001b[0m \u001b[0mLinearRegression\u001b[0m\u001b[0;34m(\u001b[0m\u001b[0;34m)\u001b[0m\u001b[0;34m\u001b[0m\u001b[0;34m\u001b[0m\u001b[0m\n\u001b[0;32m----> 4\u001b[0;31m \u001b[0mlm_1\u001b[0m\u001b[0;34m.\u001b[0m\u001b[0mfit\u001b[0m\u001b[0;34m(\u001b[0m\u001b[0mtrain_X\u001b[0m\u001b[0;34m,\u001b[0m \u001b[0mtrain_y\u001b[0m\u001b[0;34m)\u001b[0m\u001b[0;34m\u001b[0m\u001b[0;34m\u001b[0m\u001b[0m\n\u001b[0m\u001b[1;32m      5\u001b[0m \u001b[0;34m\u001b[0m\u001b[0m\n\u001b[1;32m      6\u001b[0m \u001b[0mLinearRegression\u001b[0m\u001b[0;34m(\u001b[0m\u001b[0;34m)\u001b[0m\u001b[0;34m\u001b[0m\u001b[0;34m\u001b[0m\u001b[0m\n",
            "\u001b[0;31mNameError\u001b[0m: name 'train_X' is not defined"
          ]
        }
      ]
    },
    {
      "cell_type": "markdown",
      "source": [
        "Extraemos el Intercepto del Modelo"
      ],
      "metadata": {
        "id": "LuYqkIc0ONds"
      }
    },
    {
      "cell_type": "code",
      "source": [
        "lm_1.intercept_\n"
      ],
      "metadata": {
        "id": "v6p9skyrOfxL"
      },
      "execution_count": null,
      "outputs": []
    },
    {
      "cell_type": "code",
      "source": [],
      "metadata": {
        "id": "gc3ljFHJOqrr"
      },
      "execution_count": null,
      "outputs": []
    },
    {
      "cell_type": "markdown",
      "source": [
        "Mostrar la grafica de la Regrecion"
      ],
      "metadata": {
        "id": "xyzIwgifOrIR"
      }
    },
    {
      "cell_type": "code",
      "source": [
        "import numpy as np\n",
        "import pandas as pd\n",
        "import re\n",
        "from sklearn.linear_model import LinearRegression\n",
        "from sklearn.metrics import r2_score\n",
        "\n",
        "# Extraer la frecuencia de la CPU en MHz\n",
        "def extraer_frecuencia(procesador):\n",
        "    match = re.search(r\"(\\d+\\.\\d+)\\s*GHz\", procesador)\n",
        "    return float(match.group(1)) * 1000 if match else None  # Convertir GHz a MHz\n",
        "\n",
        "# Aplicar la función\n",
        "datos['Freq (MHz)'] = datos['Processor'].apply(lambda x: extraer_frecuencia(x) if isinstance(x, str) else None)\n",
        "\n",
        "# Crear diccionario de TDP estimado para los procesadores\n",
        "tdp_dict = {\n",
        "    \"Intel i7-10750H\": 45,\n",
        "    \"Intel i5-10300H\": 35,\n",
        "    \"AMD Ryzen 7 4800H\": 45,\n",
        "    # Agrega más procesadores si es necesario\n",
        "}\n",
        "\n",
        "# Asignar TDP en base al procesador\n",
        "datos['TDP (W)'] = datos['Processor'].map(tdp_dict)\n",
        "\n",
        "# Eliminar valores nulos\n",
        "datos = datos.dropna(subset=['TDP (W)', 'Freq (MHz)'])\n",
        "\n",
        "# Definir variables\n",
        "X = datos[['TDP (W)']]  # Variable independiente\n",
        "y = datos[['Freq (MHz)']]  # Variable dependiente\n",
        "\n",
        "# Ajustar modelo de regresión lineal\n",
        "modelo = LinearRegression()\n",
        "modelo.fit(X, y)\n",
        "\n",
        "# Predicciones\n",
        "y_pred = modelo.predict(X)\n",
        "\n",
        "# Calcular R^2\n",
        "r2 = r2_score(y, y_pred)\n",
        "\n",
        "print(f\"R²: {r2:.4f}\")\n",
        "\n"
      ],
      "metadata": {
        "id": "UYjWMv_XOuRg"
      },
      "execution_count": null,
      "outputs": []
    },
    {
      "cell_type": "code",
      "source": [],
      "metadata": {
        "id": "QFwPp7zrVr8A"
      },
      "execution_count": null,
      "outputs": []
    },
    {
      "cell_type": "code",
      "source": [
        "from sklearn.neighbors import KNeighborsClassifier\n",
        "from sklearn import neighbors\n",
        "knn = neighbors.KNeighborsClassifier(n_neighbors=K)\n",
        "knn.fit(train_X, train_y)"
      ],
      "metadata": {
        "id": "-NzZ6LTKWMda"
      },
      "execution_count": null,
      "outputs": []
    },
    {
      "cell_type": "markdown",
      "source": [
        "Evaluemos del R^2"
      ],
      "metadata": {
        "id": "5rn6axPgOu2H"
      }
    },
    {
      "cell_type": "markdown",
      "source": [
        "Evaluamos el Valor del RMSE"
      ],
      "metadata": {
        "id": "mANRIZPXO2Id"
      }
    },
    {
      "cell_type": "markdown",
      "source": [],
      "metadata": {
        "id": "cW_SZSSFdwNK"
      }
    },
    {
      "cell_type": "markdown",
      "source": [],
      "metadata": {
        "id": "eqGESIFdMxw4"
      }
    },
    {
      "cell_type": "code",
      "source": [
        "[]\n",
        "matriz = datos.select_dtypes(include=[np.number]).corr()\n",
        "matriz\n",
        "matriz"
      ],
      "metadata": {
        "id": "O5JNTRHedtG3"
      },
      "execution_count": null,
      "outputs": []
    }
  ]
}